{
 "cells": [
  {
   "cell_type": "code",
   "execution_count": null,
   "id": "9c4665a8",
   "metadata": {},
   "outputs": [],
   "source": [
    "#default_exp downsize_images"
   ]
  },
  {
   "cell_type": "markdown",
   "id": "ec7928ee",
   "metadata": {},
   "source": [
    "# Downsize images"
   ]
  },
  {
   "cell_type": "markdown",
   "id": "d2e75295",
   "metadata": {},
   "source": [
    "A helper tool to mass-resize images while preserving directory structure."
   ]
  },
  {
   "cell_type": "code",
   "execution_count": null,
   "id": "c8a52c27",
   "metadata": {},
   "outputs": [],
   "source": [
    "#exporti\n",
    "from fastai.vision.all import *\n",
    "from fastcore.script import *"
   ]
  },
  {
   "cell_type": "code",
   "execution_count": null,
   "id": "209254bf",
   "metadata": {},
   "outputs": [],
   "source": [
    "#exporti\n",
    "def resize_image(file, path, dest, max_size=None, n_channels=3, ext=None,\n",
    "                 img_format=None, resample=Image.BILINEAR, resume=False, **kwargs ):\n",
    "    \"Resize file to dest to max_size\"\n",
    "    dest = Path(dest)\n",
    "    dest_fname = dest/os.path.relpath(file, path)\n",
    "    os.makedirs(dest_fname.parent, exist_ok=True)\n",
    "    if resume and dest_fname.exists(): return\n",
    "    if verify_image(file):\n",
    "        img = Image.open(file)\n",
    "        imgarr = np.array(img)\n",
    "        img_channels = 1 if len(imgarr.shape) == 2 else imgarr.shape[2]\n",
    "        if (max_size is not None and (img.height > max_size or img.width > max_size)) or img_channels != n_channels:\n",
    "            if ext is not None: dest_fname=dest_fname.with_suffix(ext)\n",
    "            if max_size is not None:\n",
    "                new_sz = resize_to(img, max_size)\n",
    "                img = img.resize(new_sz, resample=resample)\n",
    "            if n_channels == 3: img = img.convert(\"RGB\")\n",
    "        img.save(dest_fname, img_format, **kwargs)\n",
    "\n",
    "def resize_images(path, max_workers=defaults.cpus, max_size=None, recurse=False,\n",
    "                  dest=Path('.'), n_channels=3, ext=None, img_format=None, resample=Image.BILINEAR,\n",
    "                  resume=None, progress=True, **kwargs):\n",
    "    \"Resize files on path recursively to dest to max_size\"\n",
    "    path = Path(path)\n",
    "    if resume is None and dest != Path('.'): resume=False\n",
    "    os.makedirs(dest, exist_ok=True)\n",
    "    files = get_image_files(path, recurse=recurse)\n",
    "    parallel(resize_image, files, path=path, max_workers=max_workers, max_size=max_size, dest=dest,\n",
    "             n_channels=n_channels, ext=ext, img_format=img_format, resample=resample, resume=resume, \n",
    "             progress=progress, **kwargs)"
   ]
  },
  {
   "cell_type": "code",
   "execution_count": null,
   "id": "647746d4",
   "metadata": {},
   "outputs": [],
   "source": [
    "#export\n",
    "@call_parse\n",
    "def downsize_images(\n",
    "        indir:Path,  # folder with images\n",
    "        outdir:Path, # output folder\n",
    "        max_size:int=256, # maximum size of the longest edge\n",
    "    ):\n",
    "    \"\"\"Resizes a folder of images so the longest edge is shorter than max_size.\n",
    "    Preserves nested directory structure.\"\"\"\n",
    "    if len(get_image_files(indir)) == 0:\n",
    "        raise Exception(f\"No image files found in: {indir}!\")\n",
    "    resize_images(indir, max_size=max_size, dest=outdir, ext='.jpg', recurse=True, progress=True)"
   ]
  },
  {
   "cell_type": "code",
   "execution_count": null,
   "id": "a75fb582",
   "metadata": {},
   "outputs": [
    {
     "data": {
      "text/html": [
       "\n",
       "<style>\n",
       "    /* Turns off some styling */\n",
       "    progress {\n",
       "        /* gets rid of default border in Firefox and Opera. */\n",
       "        border: none;\n",
       "        /* Needs to be in here for Safari polyfill so background images work as expected. */\n",
       "        background-size: auto;\n",
       "    }\n",
       "    .progress-bar-interrupted, .progress-bar-interrupted::-webkit-progress-bar {\n",
       "        background: #F44336;\n",
       "    }\n",
       "</style>\n"
      ],
      "text/plain": [
       "<IPython.core.display.HTML object>"
      ]
     },
     "metadata": {},
     "output_type": "display_data"
    },
    {
     "data": {
      "text/html": [],
      "text/plain": [
       "<IPython.core.display.HTML object>"
      ]
     },
     "metadata": {},
     "output_type": "display_data"
    }
   ],
   "source": [
    "downsize_images(Path('../women-in-tshirts'), Path('../women-in-tshirts-256'))"
   ]
  }
 ],
 "metadata": {
  "kernelspec": {
   "display_name": "Python 3 (ipykernel)",
   "language": "python",
   "name": "python3"
  }
 },
 "nbformat": 4,
 "nbformat_minor": 5
}
