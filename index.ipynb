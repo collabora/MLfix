{
 "cells": [
  {
   "cell_type": "code",
   "execution_count": null,
   "metadata": {},
   "outputs": [],
   "source": [
    "#hide"
   ]
  },
  {
   "cell_type": "markdown",
   "metadata": {},
   "source": [
    "# MLfix – using AI and UI to explore and fix datasets\n",
    "\n",
    "[![Join the chat at https://gitter.im/MLfix/community](https://badges.gitter.im/MLfix/community.svg)](https://gitter.im/MLfix/community?utm_source=badge&utm_medium=badge&utm_campaign=pr-badge&utm_content=badge)\n",
    "\n",
    "This repository contains tools which can help you find mistakes in your labels. It helps if you have some image dataset (for example an object detection dataset with bounding boxes) and you:\n",
    "\n",
    "1. want to make sure the objects are assigned to the correct class and bounding boxes are drawn\n",
    "2. wish to explore it and discover the different variations occuring in the data\n",
    "\n",
    "The tools work by sorting the images by visual similarity and then showing them in a streamlined user interface. The interface allows you to mark the photos so you can perform the QA process. The visual similarity sorting is based on a model trained in an unsupervised manner so it's not limited to ImageNet-like data.\n",
    "\n",
    "![A futuristic robot cleaning streets of New York that are overflowing with papers.](banner.jpg)\n",
    "Is your dataset overflowing with low quality samples? Our highly-skilled robots can help you!"
   ]
  },
  {
   "cell_type": "markdown",
   "metadata": {},
   "source": [
    "## Install\n",
    "\n",
    "Please install from source for now:"
   ]
  },
  {
   "cell_type": "markdown",
   "metadata": {},
   "source": [
    "`pip install -e .`"
   ]
  },
  {
   "cell_type": "markdown",
   "metadata": {},
   "source": [
    "## How to use"
   ]
  },
  {
   "cell_type": "markdown",
   "metadata": {},
   "source": [
    "This library contains command line tools to process the image. To start with the [Women in T-Shirts dataset](https://github.com/collabora/women-in-t-shirts), run the following commands:\n",
    "\n",
    "```\n",
    "git clone https://github.com/collabora/women-in-t-shirts.git\n",
    "qa_backend_pretrain --pretrained ./women-in-tshirts  # trains a model and generates the BoVW features\n",
    "qa_backend_sort_images ./women-in-tshirts            # creates a JSON with all images sorted by similarity\n",
    "```\n",
    "\n",
    "Afterwards you can go run `python -m http.server` and go to the URL:\n",
    "`http://localhost:8000/mlfix-ui/#../women-in-tshirts/barlow-twins-resnet18-pretrained-224-5e-proj2048-lr0.5e-3-grouped.json` to load the MLfix web app.\n",
    "\n",
    "If you want to run it on you own data it may help to resize the images first:\n",
    "```\n",
    "qa_backend_downsize_images ./women-in-tshirts-large ./women-in-tshirts\n",
    "```"
   ]
  },
  {
   "cell_type": "code",
   "execution_count": null,
   "metadata": {},
   "outputs": [],
   "source": []
  }
 ],
 "metadata": {
  "kernelspec": {
   "display_name": "Python 3",
   "language": "python",
   "name": "python3"
  },
  "language_info": {
   "codemirror_mode": {
    "name": "ipython",
    "version": 3
   },
   "file_extension": ".py",
   "mimetype": "text/x-python",
   "name": "python",
   "nbconvert_exporter": "python",
   "pygments_lexer": "ipython3",
   "version": "3.9.12"
  },
  "varInspector": {
   "cols": {
    "lenName": 16,
    "lenType": 16,
    "lenVar": 40
   },
   "kernels_config": {
    "python": {
     "delete_cmd_postfix": "",
     "delete_cmd_prefix": "del ",
     "library": "var_list.py",
     "varRefreshCmd": "print(var_dic_list())"
    },
    "r": {
     "delete_cmd_postfix": ") ",
     "delete_cmd_prefix": "rm(",
     "library": "var_list.r",
     "varRefreshCmd": "cat(var_dic_list()) "
    }
   },
   "types_to_exclude": [
    "module",
    "function",
    "builtin_function_or_method",
    "instance",
    "_Feature"
   ],
   "window_display": false
  }
 },
 "nbformat": 4,
 "nbformat_minor": 2
}
