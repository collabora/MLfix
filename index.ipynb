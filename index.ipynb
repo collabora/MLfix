{
 "cells": [
  {
   "cell_type": "code",
   "execution_count": null,
   "metadata": {},
   "outputs": [],
   "source": [
    "#hide"
   ]
  },
  {
   "cell_type": "markdown",
   "metadata": {},
   "source": [
    "# ML QA – using AI to explore and fix datasets\n",
    "\n",
    "> This repository contains the training and inference code for the ML QA tools."
   ]
  },
  {
   "cell_type": "markdown",
   "metadata": {},
   "source": [
    "## Install\n",
    "\n",
    "Please install from source for now:"
   ]
  },
  {
   "cell_type": "markdown",
   "metadata": {},
   "source": [
    "`pip install -e .`"
   ]
  },
  {
   "cell_type": "markdown",
   "metadata": {},
   "source": [
    "## How to use"
   ]
  },
  {
   "cell_type": "markdown",
   "metadata": {},
   "source": [
    "This library contains command line tools to process the dataset. To start run the following commands:\n",
    "\n",
    "```\n",
    "qa_backend_downsize_images ./women-in-tshirts ./women-in-tshirts-256\n",
    "qa_backend_pretrain --pretrained ./women-in-tshirts-256\n",
    "qa_backend_extract_features ./women-in-tshirts-256\n",
    "qa_backend_sort_images ./women-in-tshirts-256\n",
    "```\n",
    "\n",
    "Afterwards you can use the `./women-in-tshirts-256/barlow-twins-resnet18-pretrained-224-5e-proj2048-lr0.5e-3-grouped.json` file in the ML QA web app."
   ]
  }
 ],
 "metadata": {
  "kernelspec": {
   "display_name": "Python 3 (ipykernel)",
   "language": "python",
   "name": "python3"
  }
 },
 "nbformat": 4,
 "nbformat_minor": 2
}
